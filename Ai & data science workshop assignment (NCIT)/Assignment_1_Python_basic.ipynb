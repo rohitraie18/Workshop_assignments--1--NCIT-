{
  "cells": [
    {
      "cell_type": "markdown",
      "id": "b01d8277",
      "metadata": {
        "id": "b01d8277"
      },
      "source": [
        "[![Open In Colab](https://colab.research.google.com/assets/colab-badge.svg)](https://colab.research.google.com/github/Nepal-College-of-Information-Technology/AI-Data-Science-Worksop-2024/blob/main/Practice%20Yourself/Assignment_1_Python_basic.ipynb)"
      ]
    },
    {
      "cell_type": "markdown",
      "id": "b731f5b3",
      "metadata": {
        "id": "b731f5b3"
      },
      "source": [
        "\n",
        "# Assignment 1: Python Basics\n",
        "\n",
        "This assignment consists of three simple questions, three medium-level questions, and four more challenging (optional) questions. Please attempt the first six questions, and try the optional questions if you feel confident.\n",
        "\n",
        "### Instructions:\n",
        "- Each question is followed by a code cell. Write your solution in the provided space.\n",
        "- For optional questions, you can attempt them if you want extra practice.\n",
        "\n",
        "---\n",
        "\n",
        "## Simple Questions:\n",
        "    "
      ]
    },
    {
      "cell_type": "markdown",
      "id": "8b0ce127",
      "metadata": {
        "id": "8b0ce127"
      },
      "source": [
        "\n",
        "### 1. Print \"Hello, Python!\"\n",
        "\n",
        "**Hint**: Use the `print()` function to display text.\n",
        "    "
      ]
    },
    {
      "cell_type": "code",
      "execution_count": null,
      "id": "9981874e",
      "metadata": {
        "id": "9981874e"
      },
      "outputs": [],
      "source": [
        "# Code here\n",
        "print(\"Hello, Python!\")"
      ]
    },
    {
      "cell_type": "markdown",
      "id": "a4f64b9b",
      "metadata": {
        "id": "a4f64b9b"
      },
      "source": [
        "\n",
        "### 2. Define two variables: one integer and one string. Print them together in a single sentence.\n",
        "\n",
        "**Hint**: Use `print()` and string concatenation or formatted strings.    "
      ]
    },
    {
      "cell_type": "code",
      "execution_count": null,
      "id": "3b374cac",
      "metadata": {
        "id": "3b374cac"
      },
      "outputs": [],
      "source": [
        "# Code here\n",
        "name = (\"Ram\")\n",
        "age = 18\n",
        "print(f\"He is a {name} and he is {age} years old.\")"
      ]
    },
    {
      "cell_type": "markdown",
      "id": "3ed1d351",
      "metadata": {
        "id": "3ed1d351"
      },
      "source": [
        "\n",
        "### 3. Create a list of 5 numbers. Print the sum of the numbers.\n",
        "\n",
        "**Hint**: Use the `sum()` function.\n"
      ]
    },
    {
      "cell_type": "code",
      "execution_count": null,
      "id": "32a7486d",
      "metadata": {
        "id": "32a7486d"
      },
      "outputs": [],
      "source": [
        "# Code here\n",
        "a = int(input(\"Enter first number:\"))\n",
        "b = int(input(\"Enter second number:\"))\n",
        "c = int(input(\"Enter third number:\"))\n",
        "d = int(input(\"Enter fourth number:\"))\n",
        "e = int(input(\"Enter fifth number:\"))\n",
        "sum = a+b+c+d+e\n",
        "print(\"The total sum is :\", sum)"
      ]
    },
    {
      "cell_type": "markdown",
      "id": "a3ade1a0",
      "metadata": {
        "id": "a3ade1a0"
      },
      "source": [
        "\n",
        "---\n",
        "\n",
        "## Medium-Level Questions:\n",
        "    "
      ]
    },
    {
      "cell_type": "markdown",
      "id": "01a6f9ee",
      "metadata": {
        "id": "01a6f9ee"
      },
      "source": [
        "\n",
        "### 4. Write a function that takes two numbers and returns their product.\n",
        "\n",
        "**Hint**: Use the `def` keyword to define a function, and use the `return` statement to return the result.\n",
        "\n",
        "    "
      ]
    },
    {
      "cell_type": "code",
      "execution_count": null,
      "id": "83a4861a",
      "metadata": {
        "id": "83a4861a"
      },
      "outputs": [],
      "source": [
        "# Code here\n",
        "def m(num1, num2):\n",
        "  return num1*num2\n",
        "result=m(10,2)\n",
        "print(result)\n",
        "\n"
      ]
    },
    {
      "cell_type": "markdown",
      "id": "f981eef5",
      "metadata": {
        "id": "f981eef5"
      },
      "source": [
        "\n",
        "### 5. Use a `for` loop to print the numbers from 1 to 10.\n",
        "\n",
        "**Hint**: Use the `range()` function to generate the numbers.\n",
        "\n",
        "\n",
        "    "
      ]
    },
    {
      "cell_type": "code",
      "execution_count": null,
      "id": "d7c96f4a",
      "metadata": {
        "id": "d7c96f4a"
      },
      "outputs": [],
      "source": [
        "# Code here\n",
        "for a in range(1,11):\n",
        "  print(a)"
      ]
    },
    {
      "cell_type": "markdown",
      "id": "f813fcc9",
      "metadata": {
        "id": "f813fcc9"
      },
      "source": [
        "\n",
        "### 6. Write a function that checks if a number is prime.\n",
        "\n",
        "**Hint**: A prime number is a number greater than 1 that has no divisors other than 1 and itself.\n",
        "\n",
        "    "
      ]
    },
    {
      "cell_type": "code",
      "execution_count": null,
      "id": "9f4804b4",
      "metadata": {
        "id": "9f4804b4"
      },
      "outputs": [],
      "source": [
        "# Code here\n",
        "a=int(input\"Enter any number :)\n",
        "if()\n",
        "      print(\"hh\")\n",
        "else\n",
        "      print(\"g\")"
      ]
    },
    {
      "cell_type": "markdown",
      "id": "54b82acb",
      "metadata": {
        "id": "54b82acb"
      },
      "source": [
        "\n",
        "---\n",
        "\n",
        "## Optional (More Challenging) Questions:\n",
        "    "
      ]
    },
    {
      "cell_type": "markdown",
      "id": "8471b0dc",
      "metadata": {
        "id": "8471b0dc"
      },
      "source": [
        "\n",
        "### 7. Write a program that reverses a string provided by the user.\n",
        "\n",
        "**Hint**: You can reverse a string by slicing with a negative step `[::-1]`.\n",
        "    "
      ]
    },
    {
      "cell_type": "code",
      "execution_count": null,
      "id": "5514ec5a",
      "metadata": {
        "id": "5514ec5a"
      },
      "outputs": [],
      "source": [
        "# Code here"
      ]
    },
    {
      "cell_type": "markdown",
      "id": "530509e0",
      "metadata": {
        "id": "530509e0"
      },
      "source": [
        "\n",
        "### 8. Create a program that finds the factorial of a number.\n",
        "\n",
        "**Hint**: The factorial of `n` is the product of all positive integers less than or equal to `n`. You can use a loop or recursion to solve this.\n",
        "\n",
        "    "
      ]
    },
    {
      "cell_type": "code",
      "execution_count": null,
      "id": "0c791a7e",
      "metadata": {
        "id": "0c791a7e"
      },
      "outputs": [],
      "source": [
        "# Code here\n",
        "n = int(input(\"Enter any number\"))\n",
        "factorial = 1\n",
        "for i in range(1, n + 1):\n",
        "    factorial *= i\n",
        "print(f\"The factorial of {n} is {factorial}.\")\n"
      ]
    },
    {
      "cell_type": "markdown",
      "id": "525b8911",
      "metadata": {
        "id": "525b8911"
      },
      "source": [
        "\n",
        "### 9. Write a function to calculate the Fibonacci sequence up to a given number.\n",
        "\n",
        "**Hint**: Each number in the sequence is the sum of the two preceding ones, starting from 0 and 1.\n",
        "\n",
        "\n",
        "    "
      ]
    },
    {
      "cell_type": "code",
      "execution_count": null,
      "id": "de48a240",
      "metadata": {
        "id": "de48a240"
      },
      "outputs": [],
      "source": [
        "# Code here"
      ]
    },
    {
      "cell_type": "markdown",
      "id": "7aab01a3",
      "metadata": {
        "id": "7aab01a3"
      },
      "source": [
        "\n",
        "### 10. Find the largest number in a list without using the `max()` function.\n",
        "\n",
        "**Hint**: Use a loop to compare each element of the list and keep track of the largest value.\n",
        "\n",
        "    "
      ]
    },
    {
      "cell_type": "code",
      "execution_count": null,
      "id": "180659db",
      "metadata": {
        "id": "180659db"
      },
      "outputs": [],
      "source": [
        "# Code here"
      ]
    }
  ],
  "metadata": {
    "kernelspec": {
      "display_name": "base",
      "language": "python",
      "name": "python3"
    },
    "language_info": {
      "codemirror_mode": {
        "name": "ipython",
        "version": 3
      },
      "file_extension": ".py",
      "mimetype": "text/x-python",
      "name": "python",
      "nbconvert_exporter": "python",
      "pygments_lexer": "ipython3",
      "version": "3.10.6"
    },
    "colab": {
      "provenance": []
    }
  },
  "nbformat": 4,
  "nbformat_minor": 5
}