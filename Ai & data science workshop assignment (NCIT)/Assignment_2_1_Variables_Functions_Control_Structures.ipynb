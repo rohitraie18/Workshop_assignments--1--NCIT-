{
  "cells": [
    {
      "cell_type": "markdown",
      "id": "bfdeaa04",
      "metadata": {
        "id": "bfdeaa04"
      },
      "source": [
        "[![Open In Colab](https://colab.research.google.com/assets/colab-badge.svg)](https://colab.research.google.com/github/Nepal-College-of-Information-Technology/AI-Data-Science-Worksop-2024/blob/main/Practice%20Yourself/Assignment_2.1_Variables_Functions_Control_Structures.ipynb)"
      ]
    },
    {
      "cell_type": "markdown",
      "id": "a78f1dbd",
      "metadata": {
        "id": "a78f1dbd"
      },
      "source": [
        "\n",
        "# Assignment 1: Variables, Data Types, Functions, and Control Structures\n",
        "\n",
        "This assignment consists of two tasks to help you practice and strengthen your understanding of variables, data types, functions, and control structures.\n",
        "\n",
        "---\n",
        "\n",
        "## **Task 1: List Operations**\n",
        "\n",
        "Write a Python program that:\n",
        "1. Takes a list of numbers as input from the user.\n",
        "2. Prints the sum of the numbers.\n",
        "3. Removes the highest and lowest numbers from the list.\n",
        "4. Prints the updated list and its average.\n",
        "\n",
        "**Hints**:\n",
        "- Use the `input()` function to get input from the user.\n",
        "- Convert the input string to a list of integers.\n",
        "- Use `sum()`, `min()`, and `max()` to perform the necessary operations.    "
      ]
    },
    {
      "cell_type": "code",
      "execution_count": 1,
      "id": "aaeda0e0",
      "metadata": {
        "id": "aaeda0e0",
        "outputId": "139f3b3f-d08f-4980-9605-8f143713c88b",
        "colab": {
          "base_uri": "https://localhost:8080/"
        }
      },
      "outputs": [
        {
          "output_type": "stream",
          "name": "stdout",
          "text": [
            "Enter any numbers: 10 20 30\n",
            "The total sum: 60.0\n",
            "The highest number: 30.0\n",
            "The lowest number: 10.0\n",
            "The total average: 20.0\n"
          ]
        }
      ],
      "source": [
        "#input numbers from users\n",
        "numbers = input(\"Enter any numbers: \")\n",
        "numbers_list = [float(num) for num in numbers.split()]\n",
        "\n",
        "#calculate sum\n",
        "a = sum(numbers_list)\n",
        "print(f\"The total sum: {a}\")\n",
        "\n",
        "#for find highest and lowest number\n",
        "highest = max(numbers_list)\n",
        "lowest = min(numbers_list)\n",
        "print(\"The highest number:\", highest)\n",
        "print(\"The lowest number:\", lowest)\n",
        "\n",
        "#for average\n",
        "average = sum(numbers_list) / len(numbers_list)\n",
        "print(\"The total average:\", average)"
      ]
    },
    {
      "cell_type": "markdown",
      "id": "a66678b3",
      "metadata": {
        "id": "a66678b3"
      },
      "source": [
        "---\n",
        "\n",
        "## **Task 2: Dictionary Manipulation**\n",
        "\n",
        "Write a Python program that:\n",
        "1. Defines a dictionary with student names as keys and their grades as values.\n",
        "2. Allows the user to add a new student and their grade to the dictionary.\n",
        "3. Calculates and prints the average grade of all students.\n",
        "4. Prints the dictionary in a sorted order based on student names.\n",
        "\n",
        "**Hints**:\n",
        "- Use `input()` to get the student name and grade from the user.\n",
        "- Use the `sorted()` function to sort the dictionary by student names."
      ]
    },
    {
      "cell_type": "code",
      "execution_count": 2,
      "id": "285b3bb5",
      "metadata": {
        "id": "285b3bb5",
        "outputId": "2ea13569-3949-4cfd-bcb3-5d68d68f5465",
        "colab": {
          "base_uri": "https://localhost:8080/"
        }
      },
      "outputs": [
        {
          "output_type": "stream",
          "name": "stdout",
          "text": [
            "{'Ram': 5, 'Sita': 10, 'Hari': 12, 'Roman': 10}\n",
            "Enter the new student's name: Rohit\n",
            "Enter the new student's class: 13\n",
            "The total average is: 9.25\n",
            "\n",
            "Student Grades in Sorted Order:\n",
            "Hari: 12\n",
            "Ram: 5\n",
            "Roman: 10\n",
            "Sita: 10\n"
          ]
        }
      ],
      "source": [
        "students_class = {\n",
        "    \"Ram\": 5,\n",
        "    \"Sita\": 10,\n",
        "    \"Hari\": 12,\n",
        "    \"Roman\": 10\n",
        "}\n",
        "print(students_class)\n",
        "\n",
        "#add new students details\n",
        "newstudents_name = input(\"Enter the new student's name: \")\n",
        "newstudents_class = input(\"Enter the new student's class: \")\n",
        "\n",
        "#for average class\n",
        "average_class = sum(students_class.values()) / len(students_class)\n",
        "print(\"The total average is:\", average_class)\n",
        "\n",
        "#for dictionary in a sorted order based on student names.\n",
        "sorted_students = sorted(students_class.items())\n",
        "print(\"\\nStudent Grades in Sorted Order:\")\n",
        "for student, grade in sorted_students:\n",
        "    print(f\"{student}: {grade}\")"
      ]
    },
    {
      "cell_type": "markdown",
      "id": "5c781be6",
      "metadata": {
        "id": "5c781be6"
      },
      "source": [
        "---"
      ]
    }
  ],
  "metadata": {
    "kernelspec": {
      "display_name": "base",
      "language": "python",
      "name": "python3"
    },
    "language_info": {
      "codemirror_mode": {
        "name": "ipython",
        "version": 3
      },
      "file_extension": ".py",
      "mimetype": "text/x-python",
      "name": "python",
      "nbconvert_exporter": "python",
      "pygments_lexer": "ipython3",
      "version": "3.10.6"
    },
    "colab": {
      "provenance": []
    }
  },
  "nbformat": 4,
  "nbformat_minor": 5
}