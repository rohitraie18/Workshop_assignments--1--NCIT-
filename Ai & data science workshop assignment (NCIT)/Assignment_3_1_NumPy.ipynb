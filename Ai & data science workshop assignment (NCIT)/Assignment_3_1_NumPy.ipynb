{
  "cells": [
    {
      "cell_type": "markdown",
      "metadata": {
        "id": "6FPhPMOVsFUD"
      },
      "source": [
        "[![Open In Colab](https://colab.research.google.com/assets/colab-badge.svg)](https://colab.research.google.com/github/Nepal-College-of-Information-Technology/AI-Data-Science-Worksop-2024/blob/main/Practice%20Yourself/Assignment_3.1_NumPy.ipynb)"
      ]
    },
    {
      "cell_type": "markdown",
      "metadata": {
        "id": "AivTyTShsFUJ"
      },
      "source": [
        "# NumPy Assignment\n",
        "\n",
        "This assignment consists of 10 tasks designed to help you practice NumPy operations. The tasks are divided into three levels of difficulty: easy, medium, and challenging.\n",
        "\n",
        "---\n",
        "\n",
        "## Easy Tasks:\n",
        "\n",
        "### **Task 1**: Create a 1D NumPy array with the numbers from 1 to 10 and print it.\n"
      ]
    },
    {
      "cell_type": "code",
      "execution_count": 2,
      "metadata": {
        "colab": {
          "base_uri": "https://localhost:8080/"
        },
        "id": "ZK-Q38FasFUK",
        "outputId": "0adb5b30-16e9-4193-85bc-6694ddcb96f4"
      },
      "outputs": [
        {
          "output_type": "stream",
          "name": "stdout",
          "text": [
            "1D Array: [10 20 30 40]\n"
          ]
        }
      ],
      "source": [
        "import numpy as np\n",
        "array_1d = np.array([10, 20, 30, 40])\n",
        "\n",
        "print(\"1D Array:\", array_1d)"
      ]
    },
    {
      "cell_type": "markdown",
      "metadata": {
        "id": "2_YOlKNDsFUM"
      },
      "source": [
        "### **Task 2:** Create a 2D NumPy array with 2 rows and 3 columns containing any numbers of your choice."
      ]
    },
    {
      "cell_type": "code",
      "execution_count": 5,
      "metadata": {
        "colab": {
          "base_uri": "https://localhost:8080/"
        },
        "id": "IsB-XiWssFUN",
        "outputId": "e1c92152-f634-471a-f656-0052cec07572"
      },
      "outputs": [
        {
          "output_type": "stream",
          "name": "stdout",
          "text": [
            "2D array with 2 rows and 3 columns: \n",
            " [[10 20 30]\n",
            " [40 50 60]]\n"
          ]
        }
      ],
      "source": [
        "import numpy as np\n",
        "array_2d = np.array([[10, 20, 30], [40, 50, 60]])\n",
        "\n",
        "print(\"2D array with 2 rows and 3 columns: \\n\", array_2d)"
      ]
    },
    {
      "cell_type": "markdown",
      "metadata": {
        "id": "rJYVDV0zsFUN"
      },
      "source": [
        "### **Task 3:** Create an array of zeros with a shape of (4, 4) and print it."
      ]
    },
    {
      "cell_type": "code",
      "execution_count": 6,
      "metadata": {
        "colab": {
          "base_uri": "https://localhost:8080/"
        },
        "id": "v6f0RkqxsFUO",
        "outputId": "94137bfe-b1bd-4fd9-af15-1e384001c185"
      },
      "outputs": [
        {
          "output_type": "stream",
          "name": "stdout",
          "text": [
            "array: \n",
            " [[0 0 0 0]\n",
            " [0 0 0 0]\n",
            " [0 0 0 0]\n",
            " [0 0 0 0]]\n"
          ]
        }
      ],
      "source": [
        "import numpy as np\n",
        "array = np.array([[0,0,0,0], [0,0,0,0], [0,0,0,0], [0,0,0,0]])\n",
        "\n",
        "print(\"array: \\n\", array)\n"
      ]
    },
    {
      "cell_type": "markdown",
      "metadata": {
        "id": "smv3NIDXsFUO"
      },
      "source": [
        "## Medium-Level Tasks:\n",
        "\n",
        "### **Task 4:** Create a 1D array with the numbers from 1 to 100, and print the sum and mean of the array."
      ]
    },
    {
      "cell_type": "code",
      "execution_count": 8,
      "metadata": {
        "colab": {
          "base_uri": "https://localhost:8080/"
        },
        "id": "jngGql8FsFUP",
        "outputId": "51b44bbf-c949-43c2-e454-0c8cf3cdf2ad"
      },
      "outputs": [
        {
          "output_type": "stream",
          "name": "stdout",
          "text": [
            "The required array is:\n",
            " [  1   2   3   4   5   6   7   8   9  10  11  12  13  14  15  16  17  18\n",
            "  19  20  21  22  23  24  25  26  27  28  29  30  31  32  33  34  35  36\n",
            "  37  38  39  40  41  42  43  44  45  46  47  48  49  50  51  52  53  54\n",
            "  55  56  57  58  59  60  61  62  63  64  65  66  67  68  69  70  71  72\n",
            "  73  74  75  76  77  78  79  80  81  82  83  84  85  86  87  88  89  90\n",
            "  91  92  93  94  95  96  97  98  99 100]\n"
          ]
        }
      ],
      "source": [
        "import numpy as np\n",
        "array = np.arange(1, 101)\n",
        "\n",
        "print(\"The required array is:\\n\", array)"
      ]
    },
    {
      "cell_type": "markdown",
      "metadata": {
        "id": "woa5wAQQsFUP"
      },
      "source": [
        "### **Task 5:** Create a 5x5 identity matrix using NumPy."
      ]
    },
    {
      "cell_type": "code",
      "execution_count": 9,
      "metadata": {
        "colab": {
          "base_uri": "https://localhost:8080/"
        },
        "id": "1pc0JtiUsFUQ",
        "outputId": "e121242f-37ed-49e1-a9e1-469a5d00fa33"
      },
      "outputs": [
        {
          "output_type": "stream",
          "name": "stdout",
          "text": [
            " 5x5 identity matrix is: \n",
            " [[1 0 0 0 0]\n",
            " [0 1 0 0 0]\n",
            " [0 0 1 0 0]\n",
            " [0 0 0 1 0]\n",
            " [0 0 0 0 1]]\n"
          ]
        }
      ],
      "source": [
        "import numpy as np\n",
        "array = np.array([[1,0,0,0,0], [0,1,0,0,0], [0,0,1,0,0], [0,0,0,1,0], [0,0,0,0,1]])\n",
        "\n",
        "print(\" 5x5 identity matrix is: \\n\", array)"
      ]
    },
    {
      "cell_type": "markdown",
      "metadata": {
        "id": "wAgFi3cHsFUQ"
      },
      "source": [
        "### **Task 6:** Reshape a 1D array of numbers from 1 to 12 into a 3x4 matrix."
      ]
    },
    {
      "cell_type": "code",
      "execution_count": 11,
      "metadata": {
        "colab": {
          "base_uri": "https://localhost:8080/"
        },
        "id": "kE1CSPimsFUQ",
        "outputId": "534afed1-8888-4abf-a78b-cbf7c45f1b7d"
      },
      "outputs": [
        {
          "output_type": "stream",
          "name": "stdout",
          "text": [
            "3*4 matrix is: \n",
            " [[ 1  2  3  4]\n",
            " [ 5  6  7  8]\n",
            " [ 9 10 11 12]]\n"
          ]
        }
      ],
      "source": [
        "import numpy as np\n",
        "array_1d = np.arange(1, 13)\n",
        "\n",
        "matrix_3x4 = array_1d.reshape(3, 4)\n",
        "\n",
        "print(\"3*4 matrix is: \\n\", matrix_3x4)\n",
        "\n",
        "\n"
      ]
    },
    {
      "cell_type": "markdown",
      "metadata": {
        "id": "ApGGJNlnsFUR"
      },
      "source": [
        "### **Task 7:** Create two 1D arrays with 5 random numbers each and print the result of element-wise addition."
      ]
    },
    {
      "cell_type": "code",
      "execution_count": 13,
      "metadata": {
        "colab": {
          "base_uri": "https://localhost:8080/"
        },
        "id": "FeOoWz5NsFUR",
        "outputId": "602d41cf-c5e6-469a-a082-c76b6efb9928"
      },
      "outputs": [
        {
          "output_type": "stream",
          "name": "stdout",
          "text": [
            "first array: [ 2  4  6  8 10]\n",
            "second array: [ 1  5  2  2 10]\n",
            "The addition of two array is: [ 3  9  8 10 20]\n"
          ]
        }
      ],
      "source": [
        "import numpy as np\n",
        "array_1 = np.array([2, 4, 6, 8, 10])\n",
        "array_2 = np.array([1, 5, 2, 2, 10])\n",
        "\n",
        "array_addition = array_1 + array_2\n",
        "\n",
        "print(\"first array:\", array_1)\n",
        "print(\"second array:\", array_2)\n",
        "print(\"The addition of two array is:\", array_addition)"
      ]
    },
    {
      "cell_type": "markdown",
      "metadata": {
        "id": "xnPH4ER3sFUR"
      },
      "source": [
        "## Challenging Tasks:\n",
        "\n",
        "### **Task 8:** Generate a 3x3 matrix with random integers between 1 and 100. Print the maximum, minimum, and sum of all the elements."
      ]
    },
    {
      "cell_type": "code",
      "execution_count": 18,
      "metadata": {
        "colab": {
          "base_uri": "https://localhost:8080/"
        },
        "id": "5fxaY3absFUS",
        "outputId": "b151fcaf-a75e-44e9-bf5a-cbfc0e10e188"
      },
      "outputs": [
        {
          "output_type": "stream",
          "name": "stdout",
          "text": [
            "Array: [[ 2  4  6]\n",
            " [20 50 90]\n",
            " [ 1 10  7]]\n",
            "Maximum value: 90\n",
            "Minimum value: 1\n"
          ]
        }
      ],
      "source": [
        "import numpy as np\n",
        "array3x3 = np.array([[2, 4, 6], [20, 50, 90], [1, 10, 7]])\n",
        "\n",
        "#foe maximum and minimum\n",
        "max_value = np.max(array3x3)\n",
        "min_value = np.min(array3x3)\n",
        "\n",
        "#print\n",
        "print(\"Array:\", array3x3)\n",
        "print(\"Maximum value:\", max_value)\n",
        "print(\"Minimum value:\", min_value)\n"
      ]
    },
    {
      "cell_type": "markdown",
      "metadata": {
        "id": "7LAAGS7csFUS"
      },
      "source": [
        "### **Task 9:** Create a 4x4 matrix and replace all the values in the diagonal with 1 (without using identity matrix functions)."
      ]
    },
    {
      "cell_type": "code",
      "execution_count": 19,
      "metadata": {
        "colab": {
          "base_uri": "https://localhost:8080/"
        },
        "id": "eKYwLVewsFUS",
        "outputId": "5926fb72-e5a9-4be9-b7b0-a9a38602786a"
      },
      "outputs": [
        {
          "output_type": "stream",
          "name": "stdout",
          "text": [
            "The final matrix is: \n",
            " [[ 1  2  3  4]\n",
            " [44  1  8 99]\n",
            " [77  1  1 69]\n",
            " [10 70  6  1]]\n"
          ]
        }
      ],
      "source": [
        "import numpy as np\n",
        "\n",
        "array4x4 = np.array([[7, 2, 3, 4], [44, 50, 8, 99], [77, 1, 55, 69], [10, 70, 6, 9]])\n",
        "\n",
        "for i in range(4):\n",
        "  array4x4 [i, i] =1\n",
        "\n",
        "print(\"The final matrix is: \\n\", array4x4 )"
      ]
    },
    {
      "cell_type": "markdown",
      "source": [],
      "metadata": {
        "id": "woxaUCCi7z1E"
      }
    },
    {
      "cell_type": "markdown",
      "metadata": {
        "id": "L3kL_jlXsFUS"
      },
      "source": [
        "### **Task 10:** Create an array of 100 random numbers and compute the mean, standard deviation, and variance of the array."
      ]
    },
    {
      "cell_type": "code",
      "execution_count": 21,
      "metadata": {
        "colab": {
          "base_uri": "https://localhost:8080/"
        },
        "id": "b4O61VZAsFUS",
        "outputId": "f25ce99d-2a9c-41ff-a19c-7b75e1826e17"
      },
      "outputs": [
        {
          "output_type": "stream",
          "name": "stdout",
          "text": [
            "Rando array: \n",
            " [0.69566529 0.40547883 0.38873557 0.19041071 0.20765716 0.05176056\n",
            " 0.31304015 0.00671989 0.32288917 0.37421515 0.59864027 0.18968506\n",
            " 0.09042316 0.48496822 0.17695951 0.45776665 0.19555347 0.84704304\n",
            " 0.84270063 0.4815893  0.20122594 0.22494752 0.54780959 0.31384826\n",
            " 0.6448516  0.183859   0.77018514 0.01734674 0.05285269 0.97878143\n",
            " 0.83424346 0.55764017 0.88618868 0.28645646 0.80788651 0.22027799\n",
            " 0.83552216 0.35624558 0.90369964 0.629783   0.49932568 0.58353848\n",
            " 0.01367545 0.5345996  0.06720507 0.54965666 0.7290864  0.83534888\n",
            " 0.73441881 0.74009206 0.31383296 0.09077349 0.64598207 0.59838128\n",
            " 0.09993717 0.9984458  0.56844031 0.749634   0.94279171 0.78719326\n",
            " 0.18371302 0.13666486 0.65804605 0.80278127 0.41296009 0.69792001\n",
            " 0.43834423 0.83204869 0.61258314 0.37276019 0.85017497 0.69175363\n",
            " 0.11512118 0.58160586 0.28086444 0.21187894 0.81192662 0.44234608\n",
            " 0.17306981 0.13001912 0.43610062 0.50916791 0.79916679 0.17093389\n",
            " 0.86736742 0.85338666 0.41275341 0.16484464 0.93606198 0.55326589\n",
            " 0.85577319 0.00263395 0.09717016 0.88740266 0.43408949 0.01196389\n",
            " 0.26002249 0.45766223 0.36542264 0.66090394]\n",
            "mean: 0.4783058855850064\n",
            "standard deviation: 0.2849412077761863\n",
            "Variance: 0.08119149188895176\n"
          ]
        }
      ],
      "source": [
        "import numpy as np\n",
        "random_array = np.random.rand(100)\n",
        "\n",
        "# for mean\n",
        "mean = np.mean(random_array)\n",
        "\n",
        "# for standard deviation\n",
        "deviation = np.std(random_array)\n",
        "\n",
        "#for variance\n",
        "variance = np.var(random_array)\n",
        "\n",
        "#print\n",
        "print(\"Rando array: \\n\", random_array)\n",
        "print(\"mean:\", mean)\n",
        "print(\"standard deviation:\", deviation)\n",
        "print(\"Variance:\", variance)"
      ]
    },
    {
      "cell_type": "markdown",
      "metadata": {
        "id": "cfPMD9cnsFUT"
      },
      "source": [
        "---"
      ]
    }
  ],
  "metadata": {
    "kernelspec": {
      "display_name": "base",
      "language": "python",
      "name": "python3"
    },
    "language_info": {
      "codemirror_mode": {
        "name": "ipython",
        "version": 3
      },
      "file_extension": ".py",
      "mimetype": "text/x-python",
      "name": "python",
      "nbconvert_exporter": "python",
      "pygments_lexer": "ipython3",
      "version": "3.10.6"
    },
    "colab": {
      "provenance": []
    }
  },
  "nbformat": 4,
  "nbformat_minor": 0
}